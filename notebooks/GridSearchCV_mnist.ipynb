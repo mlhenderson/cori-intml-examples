{
 "cells": [
  {
   "cell_type": "markdown",
   "metadata": {},
   "source": [
    "# Keras with scikit-learn grid search hyperparameter optimization example"
   ]
  },
  {
   "cell_type": "code",
   "execution_count": 1,
   "metadata": {},
   "outputs": [
    {
     "name": "stderr",
     "output_type": "stream",
     "text": [
      "Using TensorFlow backend.\n"
     ]
    }
   ],
   "source": [
    "# System imports\n",
    "from __future__ import print_function\n",
    "from __future__ import division\n",
    "from __future__ import absolute_import\n",
    "import os\n",
    "\n",
    "# General data analytics imports\n",
    "import numpy as np\n",
    "import pandas as pd\n",
    "from sklearn.model_selection import GridSearchCV\n",
    "\n",
    "# Deep learning imports\n",
    "import keras\n",
    "from keras.datasets import mnist\n",
    "from keras.models import Sequential\n",
    "from keras.layers import Dense, Dropout, Flatten\n",
    "from keras.layers import Conv2D, MaxPooling2D\n",
    "from keras.losses import categorical_crossentropy\n",
    "from keras.wrappers.scikit_learn import KerasClassifier\n",
    "from keras import backend as K\n",
    "import tensorflow as tf"
   ]
  },
  {
   "cell_type": "code",
   "execution_count": 2,
   "metadata": {},
   "outputs": [],
   "source": [
    "# Data config\n",
    "n_classes = 10\n",
    "img_rows, img_cols = 28, 28\n",
    "keras.backend.set_image_data_format('channels_last')"
   ]
  },
  {
   "cell_type": "markdown",
   "metadata": {},
   "source": [
    "## Load the data\n",
    "\n",
    "We're going to use MNIST for demonstration purposes."
   ]
  },
  {
   "cell_type": "code",
   "execution_count": 3,
   "metadata": {},
   "outputs": [
    {
     "name": "stdout",
     "output_type": "stream",
     "text": [
      "x_train shape: (60000, 28, 28, 1)\n",
      "x_test shape: (10000, 28, 28, 1)\n",
      "y_train shape: (60000, 10)\n",
      "y_test shape: (10000, 10)\n"
     ]
    }
   ],
   "source": [
    "# Read the data\n",
    "(x_train, y_train), (x_test, y_test) = mnist.load_data()\n",
    "\n",
    "# Reformat and scale the data\n",
    "input_shape = (img_rows, img_cols, 1)\n",
    "x_train = x_train.reshape(x_train.shape[0], *input_shape).astype(np.float32) / 255\n",
    "x_test = x_test.reshape(x_test.shape[0], *input_shape).astype(np.float32) / 255\n",
    "\n",
    "# Convert class vectors to binary class matrices\n",
    "y_train = keras.utils.to_categorical(y_train, n_classes)\n",
    "y_test = keras.utils.to_categorical(y_test, n_classes)\n",
    "\n",
    "print('x_train shape:', x_train.shape)\n",
    "print('x_test shape:', x_test.shape)\n",
    "print('y_train shape:', y_train.shape)\n",
    "print('y_test shape:', y_test.shape)"
   ]
  },
  {
   "cell_type": "markdown",
   "metadata": {},
   "source": [
    "## Define the model\n",
    "\n",
    "Wrap the model definition in a function to pass to the sklearn API."
   ]
  },
  {
   "cell_type": "code",
   "execution_count": 4,
   "metadata": {},
   "outputs": [],
   "source": [
    "def build_model(h1=4, h2=8, h3=32, dropout=0.5):\n",
    "    \"\"\"Construct our Keras model\"\"\"\n",
    "    model = Sequential()\n",
    "    model.add(Conv2D(h1, (3, 3), activation='relu', input_shape=input_shape))\n",
    "    model.add(Conv2D(h2, (3, 3), activation='relu'))\n",
    "    model.add(MaxPooling2D(pool_size=(2, 2)))\n",
    "    model.add(Dropout(dropout))\n",
    "    model.add(Flatten())\n",
    "    model.add(Dense(h3, activation='relu'))\n",
    "    model.add(Dropout(dropout))\n",
    "    model.add(Dense(n_classes, activation='softmax'))\n",
    "    opt = keras.optimizers.Adadelta()\n",
    "    model.compile(optimizer=opt, loss=categorical_crossentropy, metrics=['accuracy'])\n",
    "    return model"
   ]
  },
  {
   "cell_type": "markdown",
   "metadata": {},
   "source": [
    "## Traditional model training, without hyper-parameter optimization"
   ]
  },
  {
   "cell_type": "code",
   "execution_count": 5,
   "metadata": {},
   "outputs": [],
   "source": [
    "# Concurrency configuration\n",
    "n_threads = 3\n",
    "config = tf.ConfigProto(intra_op_parallelism_threads=n_threads,\n",
    "                        inter_op_parallelism_threads=n_threads)\n",
    "session = tf.Session(config=config)\n",
    "K.set_session(session)"
   ]
  },
  {
   "cell_type": "code",
   "execution_count": 6,
   "metadata": {},
   "outputs": [],
   "source": [
    "# Training config\n",
    "batch_size = 128\n",
    "n_epochs = 16"
   ]
  },
  {
   "cell_type": "code",
   "execution_count": 7,
   "metadata": {},
   "outputs": [
    {
     "name": "stdout",
     "output_type": "stream",
     "text": [
      "_________________________________________________________________\n",
      "Layer (type)                 Output Shape              Param #   \n",
      "=================================================================\n",
      "conv2d_1 (Conv2D)            (None, 26, 26, 4)         40        \n",
      "_________________________________________________________________\n",
      "conv2d_2 (Conv2D)            (None, 24, 24, 8)         296       \n",
      "_________________________________________________________________\n",
      "max_pooling2d_1 (MaxPooling2 (None, 12, 12, 8)         0         \n",
      "_________________________________________________________________\n",
      "dropout_1 (Dropout)          (None, 12, 12, 8)         0         \n",
      "_________________________________________________________________\n",
      "flatten_1 (Flatten)          (None, 1152)              0         \n",
      "_________________________________________________________________\n",
      "dense_1 (Dense)              (None, 32)                36896     \n",
      "_________________________________________________________________\n",
      "dropout_2 (Dropout)          (None, 32)                0         \n",
      "_________________________________________________________________\n",
      "dense_2 (Dense)              (None, 10)                330       \n",
      "=================================================================\n",
      "Total params: 37,562\n",
      "Trainable params: 37,562\n",
      "Non-trainable params: 0\n",
      "_________________________________________________________________\n",
      "Epoch 1/16\n",
      "60000/60000 [==============================] - 11s - loss: 1.0340 - acc: 0.6472    \n",
      "Epoch 2/16\n",
      "60000/60000 [==============================] - 11s - loss: 0.6099 - acc: 0.8043    \n",
      "Epoch 3/16\n",
      "60000/60000 [==============================] - 10s - loss: 0.5281 - acc: 0.8311    \n",
      "Epoch 4/16\n",
      "60000/60000 [==============================] - 10s - loss: 0.4861 - acc: 0.8458    \n",
      "Epoch 5/16\n",
      "60000/60000 [==============================] - 10s - loss: 0.4506 - acc: 0.8566    \n",
      "Epoch 6/16\n",
      "60000/60000 [==============================] - 10s - loss: 0.4185 - acc: 0.8663    \n",
      "Epoch 7/16\n",
      "60000/60000 [==============================] - 11s - loss: 0.3985 - acc: 0.8743    \n",
      "Epoch 8/16\n",
      "60000/60000 [==============================] - 11s - loss: 0.3779 - acc: 0.8804    \n",
      "Epoch 9/16\n",
      "60000/60000 [==============================] - 11s - loss: 0.3724 - acc: 0.8830    \n",
      "Epoch 10/16\n",
      "60000/60000 [==============================] - 10s - loss: 0.3570 - acc: 0.8859    \n",
      "Epoch 11/16\n",
      "60000/60000 [==============================] - 10s - loss: 0.3506 - acc: 0.8890    \n",
      "Epoch 12/16\n",
      "60000/60000 [==============================] - 11s - loss: 0.3374 - acc: 0.8951    \n",
      "Epoch 13/16\n",
      "60000/60000 [==============================] - 10s - loss: 0.3318 - acc: 0.8966    \n",
      "Epoch 14/16\n",
      "60000/60000 [==============================] - 10s - loss: 0.3196 - acc: 0.8990    \n",
      "Epoch 15/16\n",
      "60000/60000 [==============================] - 11s - loss: 0.3161 - acc: 0.9009    \n",
      "Epoch 16/16\n",
      "60000/60000 [==============================] - 10s - loss: 0.3144 - acc: 0.9018    \n"
     ]
    }
   ],
   "source": [
    "# Build the model\n",
    "model = build_model()\n",
    "model.summary()\n",
    "# Train the model\n",
    "history = model.fit(x_train, y_train, batch_size=batch_size, epochs=n_epochs)"
   ]
  },
  {
   "cell_type": "code",
   "execution_count": 8,
   "metadata": {},
   "outputs": [
    {
     "name": "stdout",
     "output_type": "stream",
     "text": [
      "Test set accuracy: 0.9721\n"
     ]
    }
   ],
   "source": [
    "# Compute accuracy on the test set\n",
    "o_test = model.predict_classes(x_test, verbose=0)\n",
    "accuracy = (o_test == y_test.argmax(axis=1)).mean()\n",
    "print('Test set accuracy:', accuracy)"
   ]
  },
  {
   "cell_type": "markdown",
   "metadata": {},
   "source": [
    "## Train the model with grid search"
   ]
  },
  {
   "cell_type": "code",
   "execution_count": null,
   "metadata": {},
   "outputs": [],
   "source": [
    "# Wrap model with sklearn wrapper\n",
    "sk_model = KerasClassifier(build_fn=build_model,\n",
    "                           batch_size=batch_size,\n",
    "                           epochs=n_epochs, verbose=0)\n",
    "# Define the k-fold grid-search wrapper\n",
    "param_grid = dict(\n",
    "    h1=[8, 16, 32],\n",
    "    h2=[16, 32],\n",
    "    h3=[16, 32],\n",
    "    dropout=[0., 0.25, 0.5])\n",
    "grid_model = GridSearchCV(sk_model, param_grid, verbose=2)"
   ]
  },
  {
   "cell_type": "code",
   "execution_count": null,
   "metadata": {
    "scrolled": false
   },
   "outputs": [
    {
     "name": "stdout",
     "output_type": "stream",
     "text": [
      "Fitting 3 folds for each of 36 candidates, totalling 108 fits\n",
      "[CV] dropout=0.0, h1=8, h2=16, h3=16 .................................\n",
      "[CV] .................. dropout=0.0, h1=8, h2=16, h3=16, total= 3.4min\n",
      "[CV] dropout=0.0, h1=8, h2=16, h3=16 .................................\n"
     ]
    },
    {
     "name": "stderr",
     "output_type": "stream",
     "text": [
      "[Parallel(n_jobs=1)]: Done   1 out of   1 | elapsed:  3.5min remaining:    0.0s\n"
     ]
    },
    {
     "name": "stdout",
     "output_type": "stream",
     "text": [
      "[CV] .................. dropout=0.0, h1=8, h2=16, h3=16, total= 3.4min\n",
      "[CV] dropout=0.0, h1=8, h2=16, h3=16 .................................\n",
      "[CV] .................. dropout=0.0, h1=8, h2=16, h3=16, total= 3.3min\n",
      "[CV] dropout=0.0, h1=8, h2=16, h3=32 .................................\n",
      "[CV] .................. dropout=0.0, h1=8, h2=16, h3=32, total= 3.4min\n",
      "[CV] dropout=0.0, h1=8, h2=16, h3=32 .................................\n",
      "[CV] .................. dropout=0.0, h1=8, h2=16, h3=32, total= 3.4min\n",
      "[CV] dropout=0.0, h1=8, h2=16, h3=32 .................................\n",
      "[CV] .................. dropout=0.0, h1=8, h2=16, h3=32, total= 3.4min\n",
      "[CV] dropout=0.0, h1=8, h2=32, h3=16 .................................\n",
      "[CV] .................. dropout=0.0, h1=8, h2=32, h3=16, total= 5.1min\n",
      "[CV] dropout=0.0, h1=8, h2=32, h3=16 .................................\n",
      "[CV] .................. dropout=0.0, h1=8, h2=32, h3=16, total= 5.3min\n",
      "[CV] dropout=0.0, h1=8, h2=32, h3=16 .................................\n",
      "[CV] .................. dropout=0.0, h1=8, h2=32, h3=16, total= 5.2min\n",
      "[CV] dropout=0.0, h1=8, h2=32, h3=32 .................................\n",
      "[CV] .................. dropout=0.0, h1=8, h2=32, h3=32, total= 5.4min\n",
      "[CV] dropout=0.0, h1=8, h2=32, h3=32 .................................\n",
      "[CV] .................. dropout=0.0, h1=8, h2=32, h3=32, total= 5.2min\n",
      "[CV] dropout=0.0, h1=8, h2=32, h3=32 .................................\n",
      "[CV] .................. dropout=0.0, h1=8, h2=32, h3=32, total= 5.3min\n",
      "[CV] dropout=0.0, h1=16, h2=16, h3=16 ................................\n",
      "[CV] ................. dropout=0.0, h1=16, h2=16, h3=16, total= 5.5min\n",
      "[CV] dropout=0.0, h1=16, h2=16, h3=16 ................................\n",
      "[CV] ................. dropout=0.0, h1=16, h2=16, h3=16, total= 5.2min\n",
      "[CV] dropout=0.0, h1=16, h2=16, h3=16 ................................\n",
      "[CV] ................. dropout=0.0, h1=16, h2=16, h3=16, total= 5.2min\n",
      "[CV] dropout=0.0, h1=16, h2=16, h3=32 ................................\n",
      "[CV] ................. dropout=0.0, h1=16, h2=16, h3=32, total= 5.2min\n",
      "[CV] dropout=0.0, h1=16, h2=16, h3=32 ................................\n",
      "[CV] ................. dropout=0.0, h1=16, h2=16, h3=32, total= 5.2min\n",
      "[CV] dropout=0.0, h1=16, h2=16, h3=32 ................................\n",
      "[CV] ................. dropout=0.0, h1=16, h2=16, h3=32, total= 5.2min\n",
      "[CV] dropout=0.0, h1=16, h2=32, h3=16 ................................\n",
      "[CV] ................. dropout=0.0, h1=16, h2=32, h3=16, total= 6.9min\n",
      "[CV] dropout=0.0, h1=16, h2=32, h3=16 ................................\n",
      "[CV] ................. dropout=0.0, h1=16, h2=32, h3=16, total= 7.0min\n",
      "[CV] dropout=0.0, h1=16, h2=32, h3=16 ................................\n",
      "[CV] ................. dropout=0.0, h1=16, h2=32, h3=16, total= 6.9min\n",
      "[CV] dropout=0.0, h1=16, h2=32, h3=32 ................................\n",
      "[CV] ................. dropout=0.0, h1=16, h2=32, h3=32, total= 7.0min\n",
      "[CV] dropout=0.0, h1=16, h2=32, h3=32 ................................\n",
      "[CV] ................. dropout=0.0, h1=16, h2=32, h3=32, total= 7.0min\n",
      "[CV] dropout=0.0, h1=16, h2=32, h3=32 ................................\n"
     ]
    }
   ],
   "source": [
    "# Run the k-fold grid-search training\n",
    "grid_model.fit(x_train, y_train)"
   ]
  },
  {
   "cell_type": "code",
   "execution_count": null,
   "metadata": {},
   "outputs": [],
   "source": [
    "results = pd.DataFrame(grid_model.cv_results_)"
   ]
  },
  {
   "cell_type": "code",
   "execution_count": null,
   "metadata": {},
   "outputs": [],
   "source": [
    "df_keys = ['param_dropout',\n",
    "           'param_h1', 'param_h2', 'param_h3',\n",
    "           'mean_test_score', 'mean_train_score'\n",
    "          ]\n",
    "results[df_keys]"
   ]
  }
 ],
 "metadata": {
  "kernelspec": {
   "display_name": "Python 3",
   "language": "python",
   "name": "debug180313"
  },
  "language_info": {
   "codemirror_mode": {
    "name": "ipython",
    "version": 3
   },
   "file_extension": ".py",
   "mimetype": "text/x-python",
   "name": "python",
   "nbconvert_exporter": "python",
   "pygments_lexer": "ipython3",
   "version": "3.6.1"
  }
 },
 "nbformat": 4,
 "nbformat_minor": 2
}
